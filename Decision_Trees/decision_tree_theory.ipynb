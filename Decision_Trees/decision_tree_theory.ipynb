{
 "cells": [
  {
   "cell_type": "markdown",
   "metadata": {},
   "source": [
    "# Decision Trees"
   ]
  },
  {
   "cell_type": "markdown",
   "metadata": {},
   "source": [
    "![alt text](img/if-else.png \"Decision\")"
   ]
  },
  {
   "cell_type": "markdown",
   "metadata": {},
   "source": [
    " ## 1. Introduction\n",
    "\n",
    "\n",
    "\n",
    " Decision Trees are **supervised learning algorithms** that make predictions by learning simple decision rules from data features. \n",
    " - Mimic human decision-making through binary splits\n",
    "\n",
    " - Can handle both classification & regression\n",
    "\n",
    " - Create interpretable flowchart-like structures\n",
    "\n",
    " **Cool Facts:**\n",
    "\n",
    " 1. Used in medicine for diagnosis decision pathways\n",
    "\n",
    " 2. Basis for Random Forests and Gradient Boosting\n",
    "\n",
    " 3. NASA used decision trees like logic for the Voyager spacecraft mission!"
   ]
  },
  {
   "cell_type": "markdown",
   "metadata": {},
   "source": [
    "![alt text](img/meme_if_else.jpeg \"Title\")"
   ]
  },
  {
   "cell_type": "markdown",
   "metadata": {},
   "source": [
    " Consider a simple decision: determining if a person can drive.\n",
    "\n",
    "\n",
    "\n",
    " **Pseudo-code:**\n",
    "\n",
    "\n",
    "\n",
    " ```\n",
    "\n",
    " if age >= 18:\n",
    "\n",
    "     can_drive = True\n",
    "\n",
    " else:\n",
    "\n",
    "     can_drive = False\n",
    "\n",
    " ```\n",
    "\n",
    " This simple if-else structure forms the foundation of more complex decision rules in Decision Trees."
   ]
  },
  {
   "cell_type": "markdown",
   "metadata": {},
   "source": [
    " ## 2. The \"Play Tennis\" Dataset\n",
    "\n",
    "\n",
    "\n",
    " We now introduce a classic small dataset: **Play Tennis**. In this dataset, we decide whether to play tennis based on weather conditions.\n",
    "\n",
    "\n",
    "\n",
    " **Features:**\n",
    "\n",
    "\n",
    "\n",
    " - **Outlook:** Sunny, Overcast, Rain.\n",
    "\n",
    " - **Temperature:** Hot, Mild, Cool.\n",
    "\n",
    " - **Humidity:** High, Normal.\n",
    "\n",
    " - **Wind:** Weak, Strong.\n",
    "\n",
    "\n",
    "\n",
    " **Target:**\n",
    "\n",
    "\n",
    "\n",
    " - **PlayTennis:** Yes or No.\n",
    "\n",
    "\n",
    "\n",
    " Let’s create a small sample dataset."
   ]
  },
  {
   "cell_type": "code",
   "execution_count": 14,
   "metadata": {},
   "outputs": [
    {
     "data": {
      "text/html": [
       "<div>\n",
       "<style scoped>\n",
       "    .dataframe tbody tr th:only-of-type {\n",
       "        vertical-align: middle;\n",
       "    }\n",
       "\n",
       "    .dataframe tbody tr th {\n",
       "        vertical-align: top;\n",
       "    }\n",
       "\n",
       "    .dataframe thead th {\n",
       "        text-align: right;\n",
       "    }\n",
       "</style>\n",
       "<table border=\"1\" class=\"dataframe\">\n",
       "  <thead>\n",
       "    <tr style=\"text-align: right;\">\n",
       "      <th></th>\n",
       "      <th>Outlook</th>\n",
       "      <th>Temperature</th>\n",
       "      <th>Humidity</th>\n",
       "      <th>Wind</th>\n",
       "      <th>PlayTennis</th>\n",
       "    </tr>\n",
       "  </thead>\n",
       "  <tbody>\n",
       "    <tr>\n",
       "      <th>0</th>\n",
       "      <td>Sunny</td>\n",
       "      <td>Hot</td>\n",
       "      <td>High</td>\n",
       "      <td>Weak</td>\n",
       "      <td>No</td>\n",
       "    </tr>\n",
       "    <tr>\n",
       "      <th>1</th>\n",
       "      <td>Sunny</td>\n",
       "      <td>Hot</td>\n",
       "      <td>High</td>\n",
       "      <td>Strong</td>\n",
       "      <td>No</td>\n",
       "    </tr>\n",
       "    <tr>\n",
       "      <th>2</th>\n",
       "      <td>Overcast</td>\n",
       "      <td>Hot</td>\n",
       "      <td>High</td>\n",
       "      <td>Weak</td>\n",
       "      <td>Yes</td>\n",
       "    </tr>\n",
       "    <tr>\n",
       "      <th>3</th>\n",
       "      <td>Rain</td>\n",
       "      <td>Mild</td>\n",
       "      <td>High</td>\n",
       "      <td>Weak</td>\n",
       "      <td>Yes</td>\n",
       "    </tr>\n",
       "    <tr>\n",
       "      <th>4</th>\n",
       "      <td>Rain</td>\n",
       "      <td>Cool</td>\n",
       "      <td>Normal</td>\n",
       "      <td>Weak</td>\n",
       "      <td>Yes</td>\n",
       "    </tr>\n",
       "  </tbody>\n",
       "</table>\n",
       "</div>"
      ],
      "text/plain": [
       "    Outlook Temperature Humidity    Wind PlayTennis\n",
       "0     Sunny         Hot     High    Weak         No\n",
       "1     Sunny         Hot     High  Strong         No\n",
       "2  Overcast         Hot     High    Weak        Yes\n",
       "3      Rain        Mild     High    Weak        Yes\n",
       "4      Rain        Cool   Normal    Weak        Yes"
      ]
     },
     "execution_count": 14,
     "metadata": {},
     "output_type": "execute_result"
    }
   ],
   "source": [
    "import pandas as pd\n",
    "\n",
    "# Define the Play Tennis dataset\n",
    "data = {\n",
    "    'Outlook': ['Sunny', 'Sunny', 'Overcast', 'Rain', 'Rain', 'Rain', 'Overcast', 'Sunny', 'Sunny', 'Rain', 'Sunny', 'Overcast', 'Overcast', 'Rain'],\n",
    "    'Temperature': ['Hot', 'Hot', 'Hot', 'Mild', 'Cool', 'Cool', 'Cool', 'Mild', 'Cool', 'Mild', 'Mild', 'Mild', 'Hot', 'Mild'],\n",
    "    'Humidity': ['High', 'High', 'High', 'High', 'Normal', 'Normal', 'Normal', 'High', 'Normal', 'Normal', 'Normal', 'High', 'Normal', 'High'],\n",
    "    'Wind': ['Weak', 'Strong', 'Weak', 'Weak', 'Weak', 'Strong', 'Strong', 'Weak', 'Weak', 'Weak', 'Strong', 'Strong', 'Weak', 'Strong'],\n",
    "    'PlayTennis': ['No', 'No', 'Yes', 'Yes', 'Yes', 'No', 'Yes', 'No', 'Yes', 'Yes', 'Yes', 'Yes', 'Yes', 'No']\n",
    "}\n",
    "\n",
    "df_tennis = pd.DataFrame(data)\n",
    "df_tennis.head()\n"
   ]
  },
  {
   "cell_type": "markdown",
   "metadata": {},
   "source": [
    "![alt text](img/playtennis_dt.png \"PlayTennis\")"
   ]
  },
  {
   "cell_type": "markdown",
   "metadata": {},
   "source": [
    " ## 3. Entropy in Decision Trees\n",
    "\n",
    "\n",
    " - Entropy measures the uncertainity or impurity in a set of examples. \n",
    " - In decision trees, we use entropy to decide the best feature for splitting. \n",
    " - The formula for entropy is:\n",
    "\n",
    "\n",
    " $$ \\text{Entropy}(Y) = -\\sum_{i=1}^{n} p(y_i) \\log_2(p(y_i)) $$\n",
    "\n",
    "\n",
    "\n",
    " where $p(y_i)$ is the probability of $y_i$ in the dataset.\n",
    "\n",
    "\n",
    "\n",
    " **Example Calculation:**\n",
    "\n",
    "\n",
    "\n",
    " Let’s calculate the entropy for the target variable `PlayTennis` in our dataset."
   ]
  },
  {
   "cell_type": "code",
   "execution_count": null,
   "metadata": {},
   "outputs": [
    {
     "name": "stdout",
     "output_type": "stream",
     "text": [
      "Entropy of the PlayTennis dataset: 0.9403\n"
     ]
    }
   ],
   "source": [
    "import numpy as np\n",
    "\n",
    "def entropy(labels):\n",
    "    counts = np.bincount(labels)\n",
    "    probabilities = counts / len(labels)\n",
    "    probabilities = probabilities[probabilities > 0]\n",
    "    return -np.sum(probabilities * np.log2(probabilities))\n",
    " \n",
    "labels = df_tennis['PlayTennis'].map({'Yes': 1, 'No': 0}).values\n",
    "total_entropy = entropy(labels)\n",
    "print(f\"Entropy of the PlayTennis dataset: {total_entropy:.4f}\")\n"
   ]
  },
  {
   "cell_type": "markdown",
   "metadata": {},
   "source": [
    " ## 4. Key Properties of Entropy\n",
    "\n",
    " 1. **Maximum Uncertainty** (Worst Case):\n",
    "\n",
    "    When classes are equally distributed\n",
    "\n",
    "    $H(S) = 1$ for 50-50 split in binary case\n",
    "\n",
    "\n",
    "\n",
    " 2. **No Uncertainty** (Best Case):\n",
    "\n",
    "    $H(S) = 0$ when all samples belong to one class\n",
    "\n",
    "\n",
    "\n",
    " 3. **Geometric Interpretation**:\n",
    "\n",
    "    Entropy curve is concave with maximum at p=0.5\n"
   ]
  },
  {
   "cell_type": "code",
   "execution_count": 19,
   "metadata": {},
   "outputs": [
    {
     "data": {
      "image/png": "[encoded data removed]",
      "text/plain": [
       "<Figure size 800x500 with 1 Axes>"
      ]
     },
     "metadata": {},
     "output_type": "display_data"
    }
   ],
   "source": [
    "import matplotlib.pyplot as plt\n",
    "\n",
    "p_values = np.linspace(0.01, 0.99, 100)\n",
    "entropy_values = - (p_values * np.log2(p_values) + (1-p_values) * np.log2(1-p_values))\n",
    "\n",
    "plt.figure(figsize=(8, 5))\n",
    "plt.plot(p_values, entropy_values, label=\"Entropy\")\n",
    "plt.xlabel(\"Probability of Class 'Yes'\")\n",
    "plt.ylabel(\"Entropy\")\n",
    "plt.title(\"Entropy for Binary Distribution\")\n",
    "plt.legend()\n",
    "plt.grid(True)\n",
    "plt.show()\n"
   ]
  },
  {
   "cell_type": "markdown",
   "metadata": {},
   "source": [
    " ## 5. KL Divergence in Decision Trees\n",
    "\n",
    " Kullback-Leibler Divergence measures information gain between distributions:\n",
    "\n",
    "\n",
    "\n",
    " $$ D_{KL}(P || Q) = \\sum_i P(i) \\log \\frac{P(i)}{Q(i)} $$\n",
    "\n",
    "\n",
    "\n",
    " In Decision Trees:\n",
    "\n",
    " - Measures reduction in entropy (information gain)\n",
    "\n",
    " - Used to compare parent-child node distributions"
   ]
  },
  {
   "cell_type": "markdown",
   "metadata": {},
   "source": [
    "![alt](img/kl-div.png \"kl\")"
   ]
  },
  {
   "cell_type": "markdown",
   "metadata": {},
   "source": [
    " ## 6. Information Gain (IG)\n",
    "\n",
    "\n",
    "\n",
    " Information Gain is the reduction in entropy achieved after a dataset is split on an attribute. It is defined as:\n",
    "\n",
    "\n",
    "\n",
    " $$\n",
    "\n",
    " \\text{IG}(Y, A) = \\text{Entropy}(Y) - \\sum_{v \\in \\text{Values}(A)} \\frac{|Y_v|}{|Y|} \\text{Entropy}(Y_v)\n",
    " $$\n",
    "\n",
    "\n",
    "\n",
    "\n",
    " where $S_v$ is the subset of $S$ for which attribute $A$ has value $v$.\n",
    "\n",
    "\n",
    "\n",
    " **Calculation on Our \"Play Tennis\" Dataset:**\n",
    "\n",
    "\n",
    "\n",
    " Let’s calculate the Information Gain for the feature **Outlook**."
   ]
  },
  {
   "cell_type": "code",
   "execution_count": 22,
   "metadata": {},
   "outputs": [
    {
     "name": "stdout",
     "output_type": "stream",
     "text": [
      "Information Gain for 'Outlook': 0.2467\n"
     ]
    }
   ],
   "source": [
    "def info_gain(df, feature, target):\n",
    "    # Calculate entropy for the entire dataset\n",
    "    target_vals = df[target].map({'Yes': 1, 'No': 0}).values\n",
    "    total_entropy = entropy(target_vals)\n",
    "    \n",
    "    # Calculate weighted entropy after split\n",
    "    values = df[feature].unique()\n",
    "    weighted_entropy = 0\n",
    "    for v in values:\n",
    "        subset = df[df[feature] == v]\n",
    "        subset_labels = subset[target].map({'Yes': 1, 'No': 0}).values\n",
    "        weighted_entropy += (len(subset) / len(df)) * entropy(subset_labels)\n",
    "    \n",
    "    return total_entropy - weighted_entropy\n",
    "\n",
    "ig_outlook = info_gain(df_tennis, 'Outlook', 'PlayTennis')\n",
    "print(f\"Information Gain for 'Outlook': {ig_outlook:.4f}\")\n"
   ]
  },
  {
   "cell_type": "markdown",
   "metadata": {},
   "source": [
    " ## 7. Gini Impurity: Alternative to Entropy\n",
    "\n",
    "\n",
    "\n",
    " Gini measures probability of misclassification:\n",
    "\n",
    "\n",
    "\n",
    " $$ I_G(Y) = 1 - \\sum_{i=1}^k p(y_i)^2 $$\n",
    "\n",
    "\n",
    "\n",
    " **Geometric Relation:**\n",
    "\n",
    " - Both reach maximum at uniform distribution\n",
    "\n",
    " - Gini peaks at 0.5 vs Entropy at 1.0"
   ]
  },
  {
   "cell_type": "code",
   "execution_count": 23,
   "metadata": {},
   "outputs": [
    {
     "name": "stdout",
     "output_type": "stream",
     "text": [
      "Entropy of the PlayTennis dataset: 0.9403\n",
      "Ginni of the PlayTennis dataset: 0.4592\n"
     ]
    }
   ],
   "source": [
    "import numpy as np\n",
    "\n",
    "def ginni(labels):\n",
    "    counts = np.bincount(labels)\n",
    "    probabilities = counts / len(labels)\n",
    "    probabilities = probabilities[probabilities > 0]\n",
    "    return 1 - np.sum(probabilities**2)\n",
    "\n",
    "labels = df_tennis['PlayTennis'].map({'Yes': 1, 'No': 0}).values\n",
    "total_ginni = ginni(labels)\n",
    "print(f\"Entropy of the PlayTennis dataset: {total_entropy:.4f}\")\n",
    "print(f\"Ginni of the PlayTennis dataset: {total_ginni:.4f}\")"
   ]
  },
  {
   "cell_type": "code",
   "execution_count": 24,
   "metadata": {},
   "outputs": [
    {
     "name": "stdout",
     "output_type": "stream",
     "text": [
      "Entropy Time required: 0.00014591 seconds\n",
      "Gini Time required: 0.00013494 seconds\n"
     ]
    }
   ],
   "source": [
    "import time\n",
    "\n",
    "start_time = time.time()\n",
    "total_entropy = entropy(labels)\n",
    "end_time = time.time()\n",
    "\n",
    "print(f\"Entropy Time required: {end_time - start_time:.8f} seconds\")\n",
    "\n",
    "start_time = time.time()\n",
    "total_ginni = ginni(labels)\n",
    "end_time = time.time()\n",
    "\n",
    "print(f\"Gini Time required: {end_time - start_time:.8f} seconds\")"
   ]
  },
  {
   "cell_type": "code",
   "execution_count": 25,
   "metadata": {},
   "outputs": [
    {
     "data": {
      "image/png": "[encoded data removed]",
      "text/plain": [
       "<Figure size 800x500 with 1 Axes>"
      ]
     },
     "metadata": {},
     "output_type": "display_data"
    }
   ],
   "source": [
    "gini_values = 1 - (p_values**2 + (1-p_values)**2)\n",
    "\n",
    "plt.figure(figsize=(8, 5))\n",
    "plt.plot(p_values, entropy_values, label=\"Entropy\", color='blue')\n",
    "plt.plot(p_values, gini_values, label=\"Gini Impurity\", color='red')\n",
    "plt.xlabel(\"Probability of 'Yes'\")\n",
    "plt.ylabel(\"Impurity Measure\")\n",
    "plt.title(\"Entropy vs. Gini Impurity\")\n",
    "plt.legend()\n",
    "plt.grid(True)\n",
    "plt.show()\n"
   ]
  },
  {
   "cell_type": "markdown",
   "metadata": {},
   "source": [
    " ## 8. Constructing a Decision Tree\n",
    "\n",
    " 1. **Start**: All training data at root\n",
    "\n",
    " 2. **Split Selection**: Choose feature with max IG\n",
    "\n",
    " 3. **Partition**: Create child nodes for each split\n",
    "\n",
    " 4. **Recurse**: Repeat until stopping criteria met\n",
    "\n",
    "\n",
    "\n",
    " **Stopping Conditions**:\n",
    "\n",
    " - All samples same class - Pure Node\n",
    "\n",
    " - Max depth reached\n",
    "\n",
    " - Minimum samples per node\n",
    "\n",
    "Depth of the Tree -> Hyperparameter in Decision Tree"
   ]
  },
  {
   "cell_type": "markdown",
   "metadata": {},
   "source": [
    " ## 9. Overfitting and Underfitting in Decision Trees\n",
    "\n",
    "\n",
    "\n",
    " **Overfitting:**\n",
    "\n",
    "\n",
    "\n",
    " - Occurs when the tree becomes too complex and captures noise in the training data.\n",
    "\n",
    " - It performs very well on training data but poorly on unseen data.\n",
    "\n",
    " - Remedies include limiting tree depth, setting minimum samples per leaf, or using pruning techniques.\n",
    "\n",
    "\n",
    "\n",
    " **Underfitting:**\n",
    "\n",
    "\n",
    "\n",
    " - Happens when the tree is too simple to capture the underlying patterns in the data.\n",
    "\n",
    " - It results in high bias and poor performance on both training and test sets.\n",
    "\n",
    " - Remedy by allowing more complexity (e.g., increasing tree depth or reducing regularization).\n",
    "\n",
    "\n",
    "\n",
    " Finding the right balance between the two is key for good model performance."
   ]
  },
  {
   "cell_type": "markdown",
   "metadata": {},
   "source": [
    " ## 10. Regression Using Decision Trees\n",
    "\n",
    "\n",
    "\n",
    " Decision Trees can also be used for regression tasks. Instead of classifying, the tree predicts a continuous value by averaging the target values in a leaf node.\n",
    "\n",
    "\n",
    "\n",
    " **Example:**\n",
    "\n",
    "\n",
    "\n",
    " We can use scikit-learn’s `DecisionTreeRegressor` to predict a continuous outcome (like house prices) by following the same splitting principles but using a different criterion (e.g., mean squared error)."
   ]
  },
  {
   "cell_type": "code",
   "execution_count": null,
   "metadata": {},
   "outputs": [],
   "source": [
    "from sklearn.tree import DecisionTreeRegressor\n",
    "import numpy as np\n",
    "\n",
    "# Create a small synthetic regression dataset\n",
    "np.random.seed(42)\n",
    "X_reg = np.linspace(0, 10, 100).reshape(-1, 1)\n",
    "y_reg = np.sin(X_reg).ravel() + np.random.normal(0, 0.2, 100)\n",
    "\n",
    "# Fit a Decision Tree Regressor\n",
    "regressor = DecisionTreeRegressor(max_depth=None, random_state=42)\n",
    "regressor.fit(X_reg, y_reg)\n",
    "\n",
    "# Predict and plot results\n",
    "y_pred_reg = regressor.predict(X_reg)\n",
    "\n",
    "plt.figure(figsize=(8, 5))\n",
    "plt.scatter(X_reg, y_reg, label=\"Data\", color='lightblue')\n",
    "plt.plot(X_reg, y_pred_reg, label=\"Decision Tree Regression\", color='red')\n",
    "plt.xlabel(\"X\")\n",
    "plt.ylabel(\"y\")\n",
    "plt.title(\"Decision Tree Regression Example\")\n",
    "plt.legend()\n",
    "plt.show()\n",
    "\n",
    "\n"
   ]
  },
  {
   "cell_type": "markdown",
   "metadata": {},
   "source": [
    "## References\n",
    "\n",
    "- https://github.com/luelhagos/Play-Tennis-Implementation-Using-Sklearn-Decision-Tree-Algorithm/blob/master/Play%20Tennis%20%20Implementation%20Using%20Sklearn%20Decision%20Tree%20Algorithm.ipynb\n",
    "- https://www.researchgate.net/publication/328382220_Privacy_Preserving_Medical_Data_Analytics_using_Secure_Multi_Party_Computation_An_End-To-End_Use_Case\n",
    "- https://jessicastringham.net/2018/12/27/KL-Divergence\n",
    "- https://cs.uwaterloo.ca/~a23gao/cs486686_f18/slides/lec19_decision_trees_typednotes.pdf"
   ]
  }
 ],
 "metadata": {
  "kernelspec": {
   "display_name": ".learn-venv",
   "language": "python",
   "name": "python3"
  },
  "language_info": {
   "codemirror_mode": {
    "name": "ipython",
    "version": 3
   },
   "file_extension": ".py",
   "mimetype": "text/x-python",
   "name": "python",
   "nbconvert_exporter": "python",
   "pygments_lexer": "ipython3",
   "version": "3.9.6"
  }
 },
 "nbformat": 4,
 "nbformat_minor": 2
}
